{
  "nbformat": 4,
  "nbformat_minor": 0,
  "metadata": {
    "colab": {
      "name": "NLP.ipynb",
      "provenance": [],
      "authorship_tag": "ABX9TyNgbtgxVrff6Ma3tP8fJ1BK",
      "include_colab_link": true
    },
    "kernelspec": {
      "name": "python3",
      "display_name": "Python 3"
    }
  },
  "cells": [
    {
      "cell_type": "markdown",
      "metadata": {
        "id": "view-in-github",
        "colab_type": "text"
      },
      "source": [
        "<a href=\"https://colab.research.google.com/github/Diane10/movies/blob/main/NLP.ipynb\" target=\"_parent\"><img src=\"https://colab.research.google.com/assets/colab-badge.svg\" alt=\"Open In Colab\"/></a>"
      ]
    },
    {
      "cell_type": "code",
      "metadata": {
        "id": "ybx6hmTSY09b"
      },
      "source": [
        "import pandas as pd\r\n",
        "import numpy as np"
      ],
      "execution_count": 1,
      "outputs": []
    },
    {
      "cell_type": "code",
      "metadata": {
        "id": "ivt4pMOaZC9-"
      },
      "source": [
        "from textblob import TextBlob\r\n",
        "import nltk"
      ],
      "execution_count": 3,
      "outputs": []
    },
    {
      "cell_type": "code",
      "metadata": {
        "colab": {
          "base_uri": "https://localhost:8080/"
        },
        "id": "G0qq6ZQ-ZUK8",
        "outputId": "916e0a8e-8c4e-4465-91e1-ae09a7ba05f7"
      },
      "source": [
        "nltk.download(\"wordnet\")\r\n",
        "nltk.download(\"brown\")"
      ],
      "execution_count": 4,
      "outputs": [
        {
          "output_type": "stream",
          "text": [
            "[nltk_data] Downloading package wordnet to /root/nltk_data...\n",
            "[nltk_data]   Unzipping corpora/wordnet.zip.\n",
            "[nltk_data] Downloading package brown to /root/nltk_data...\n",
            "[nltk_data]   Unzipping corpora/brown.zip.\n"
          ],
          "name": "stdout"
        },
        {
          "output_type": "execute_result",
          "data": {
            "text/plain": [
              "True"
            ]
          },
          "metadata": {
            "tags": []
          },
          "execution_count": 4
        }
      ]
    },
    {
      "cell_type": "code",
      "metadata": {
        "id": "dOvUiI61bNFG"
      },
      "source": [
        "text1 = '''\r\n",
        "  Beautiful is better than ugly.\r\n",
        "  Explicit is better than implicit.\r\n",
        "  Simple is better than complex.\r\n",
        "  Complex is better than complicated.\r\n",
        "  Flat is better than nested.\r\n",
        "  Sparse is better than dense.\r\n",
        "  Readability counts.\r\n",
        "  Errors should never pass silently.'''"
      ],
      "execution_count": 5,
      "outputs": []
    },
    {
      "cell_type": "code",
      "metadata": {
        "colab": {
          "base_uri": "https://localhost:8080/"
        },
        "id": "Z1mzPZuRbTSf",
        "outputId": "d95d8913-9f91-4d9b-e926-33533752f2cf"
      },
      "source": [
        "blob = TextBlob(text1)\r\n",
        "blob"
      ],
      "execution_count": 7,
      "outputs": [
        {
          "output_type": "execute_result",
          "data": {
            "text/plain": [
              "TextBlob(\"\n",
              "  Beautiful is better than ugly.\n",
              "  Explicit is better than implicit.\n",
              "  Simple is better than complex.\n",
              "  Complex is better than complicated.\n",
              "  Flat is better than nested.\n",
              "  Sparse is better than dense.\n",
              "  Readability counts.\n",
              "  Errors should never pass silently.\")"
            ]
          },
          "metadata": {
            "tags": []
          },
          "execution_count": 7
        }
      ]
    },
    {
      "cell_type": "code",
      "metadata": {
        "colab": {
          "base_uri": "https://localhost:8080/"
        },
        "id": "TMt2dHG6b6cN",
        "outputId": "666f0398-3f0a-4d0a-ccf5-ab28ddf79775"
      },
      "source": [
        "import nltk\r\n",
        "nltk.download('punkt')"
      ],
      "execution_count": 11,
      "outputs": [
        {
          "output_type": "stream",
          "text": [
            "[nltk_data] Downloading package punkt to /root/nltk_data...\n",
            "[nltk_data]   Unzipping tokenizers/punkt.zip.\n"
          ],
          "name": "stdout"
        },
        {
          "output_type": "execute_result",
          "data": {
            "text/plain": [
              "True"
            ]
          },
          "metadata": {
            "tags": []
          },
          "execution_count": 11
        }
      ]
    },
    {
      "cell_type": "code",
      "metadata": {
        "colab": {
          "base_uri": "https://localhost:8080/"
        },
        "id": "uXx1fJf9bYYE",
        "outputId": "14fcc34f-2734-43d1-ae37-5a9b8826a940"
      },
      "source": [
        "blob.noun_phrases"
      ],
      "execution_count": 12,
      "outputs": [
        {
          "output_type": "execute_result",
          "data": {
            "text/plain": [
              "WordList(['beautiful', 'explicit', 'simple', 'complex', 'flat', 'sparse', 'readability', 'errors'])"
            ]
          },
          "metadata": {
            "tags": []
          },
          "execution_count": 12
        }
      ]
    },
    {
      "cell_type": "code",
      "metadata": {
        "colab": {
          "base_uri": "https://localhost:8080/"
        },
        "id": "yf56lSlmbffQ",
        "outputId": "3f5ec7bd-d6dc-4596-ac20-c87c15f82fa2"
      },
      "source": [
        "polarity = blob.sentiment[0]\r\n",
        "\r\n",
        "subjectivity = blob.sentiment[1]\r\n",
        "\r\n",
        "print(polarity, subjectivity)"
      ],
      "execution_count": 13,
      "outputs": [
        {
          "output_type": "stream",
          "text": [
            "0.14464285714285716 0.5272959183673469\n"
          ],
          "name": "stdout"
        }
      ]
    },
    {
      "cell_type": "code",
      "metadata": {
        "colab": {
          "base_uri": "https://localhost:8080/"
        },
        "id": "FK4YjH4ScHmD",
        "outputId": "7cd846da-d6af-4ccf-c09c-bf242d95af65"
      },
      "source": [
        "polarity = blob.polarity\r\n",
        "subjectivity = blob.subjectivity\r\n",
        "\r\n",
        "print(polarity, subjectivity)"
      ],
      "execution_count": 14,
      "outputs": [
        {
          "output_type": "stream",
          "text": [
            "0.14464285714285716 0.5272959183673469\n"
          ],
          "name": "stdout"
        }
      ]
    },
    {
      "cell_type": "code",
      "metadata": {
        "colab": {
          "base_uri": "https://localhost:8080/"
        },
        "id": "LFsOa6dJcTGV",
        "outputId": "d1a69ee2-8b72-4df4-a774-0647f3d49577"
      },
      "source": [
        "blob.words"
      ],
      "execution_count": 15,
      "outputs": [
        {
          "output_type": "execute_result",
          "data": {
            "text/plain": [
              "WordList(['Beautiful', 'is', 'better', 'than', 'ugly', 'Explicit', 'is', 'better', 'than', 'implicit', 'Simple', 'is', 'better', 'than', 'complex', 'Complex', 'is', 'better', 'than', 'complicated', 'Flat', 'is', 'better', 'than', 'nested', 'Sparse', 'is', 'better', 'than', 'dense', 'Readability', 'counts', 'Errors', 'should', 'never', 'pass', 'silently'])"
            ]
          },
          "metadata": {
            "tags": []
          },
          "execution_count": 15
        }
      ]
    },
    {
      "cell_type": "code",
      "metadata": {
        "colab": {
          "base_uri": "https://localhost:8080/"
        },
        "id": "MU2Svc3kcXs8",
        "outputId": "13155f30-4505-4d87-ba51-3feef28796f3"
      },
      "source": [
        " blob.sentences"
      ],
      "execution_count": 16,
      "outputs": [
        {
          "output_type": "execute_result",
          "data": {
            "text/plain": [
              "[Sentence(\"\n",
              "   Beautiful is better than ugly.\"),\n",
              " Sentence(\"Explicit is better than implicit.\"),\n",
              " Sentence(\"Simple is better than complex.\"),\n",
              " Sentence(\"Complex is better than complicated.\"),\n",
              " Sentence(\"Flat is better than nested.\"),\n",
              " Sentence(\"Sparse is better than dense.\"),\n",
              " Sentence(\"Readability counts.\"),\n",
              " Sentence(\"Errors should never pass silently.\")]"
            ]
          },
          "metadata": {
            "tags": []
          },
          "execution_count": 16
        }
      ]
    },
    {
      "cell_type": "code",
      "metadata": {
        "id": "op8cY_S-cbR5"
      },
      "source": [
        "# import textblob Word object\r\n",
        "from textblob import Word\r\n",
        "\r\n",
        "\r\n",
        "word = \"organizes\"\r\n",
        "\r\n",
        "word1 = \"went\""
      ],
      "execution_count": 17,
      "outputs": []
    },
    {
      "cell_type": "code",
      "metadata": {
        "colab": {
          "base_uri": "https://localhost:8080/"
        },
        "id": "QHCqGQWHcmR0",
        "outputId": "93c5a5d1-6526-4a92-d20b-da853332886d"
      },
      "source": [
        "# Convert a Python string to a textblob Word()\r\n",
        "blob_word = Word(word)\r\n",
        "\r\n",
        "print(blob_word.lemmatize(\"v\"))\r\n",
        "print(Word(word1).lemmatize(\"v\"))"
      ],
      "execution_count": 18,
      "outputs": [
        {
          "output_type": "stream",
          "text": [
            "organize\n",
            "go\n"
          ],
          "name": "stdout"
        }
      ]
    },
    {
      "cell_type": "code",
      "metadata": {
        "id": "GRZ2v3QFc3zk"
      },
      "source": [
        "blob = TextBlob(\"My spellin is aways corect\")\r\n"
      ],
      "execution_count": 19,
      "outputs": []
    },
    {
      "cell_type": "code",
      "metadata": {
        "colab": {
          "base_uri": "https://localhost:8080/"
        },
        "id": "nSh-24-oc_i2",
        "outputId": "c04aa5ef-5ed5-4df2-a0f5-2f222db72c86"
      },
      "source": [
        "blob.correct()"
      ],
      "execution_count": 20,
      "outputs": [
        {
          "output_type": "execute_result",
          "data": {
            "text/plain": [
              "TextBlob(\"By spelling is away correct\")"
            ]
          },
          "metadata": {
            "tags": []
          },
          "execution_count": 20
        }
      ]
    },
    {
      "cell_type": "code",
      "metadata": {
        "id": "Iya072ladIlW"
      },
      "source": [
        "blob = TextBlob(\"Beautiful is better than ugly. Explicit is better than implicit.\")\r\n"
      ],
      "execution_count": 21,
      "outputs": []
    },
    {
      "cell_type": "code",
      "metadata": {
        "colab": {
          "base_uri": "https://localhost:8080/"
        },
        "id": "20abzDGjdPdD",
        "outputId": "60c7bdd0-cdf7-4868-c329-68273ee56dbc"
      },
      "source": [
        "# Translate to German from English\r\n",
        "blob.translate(to=\"de\")"
      ],
      "execution_count": 22,
      "outputs": [
        {
          "output_type": "execute_result",
          "data": {
            "text/plain": [
              "TextBlob(\"Schön ist besser als hässlich. Explizit ist besser als implizit.\")"
            ]
          },
          "metadata": {
            "tags": []
          },
          "execution_count": 22
        }
      ]
    },
    {
      "cell_type": "code",
      "metadata": {
        "id": "yK_zzoe_dZoI"
      },
      "source": [
        ""
      ],
      "execution_count": null,
      "outputs": []
    }
  ]
}